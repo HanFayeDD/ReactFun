{
 "cells": [
  {
   "cell_type": "code",
   "execution_count": 10,
   "metadata": {},
   "outputs": [],
   "source": [
    "from datetime import datetime, timedelta\n",
    "import akshare as ak\n",
    "sepdays = 90\n",
    "endays: str = datetime.now().strftime('%Y%m%d')\n",
    "begindays: str = (datetime.now() - timedelta(days=sepdays)\n",
    "                      ).strftime('%Y%m%d')"
   ]
  },
  {
   "cell_type": "code",
   "execution_count": 11,
   "metadata": {},
   "outputs": [
    {
     "name": "stdout",
     "output_type": "stream",
     "text": [
      "            日期    股票代码     开盘     收盘     最高     最低      成交量           成交额  \\\n",
      "0   2024-10-21  000001  11.94  11.81  11.94  11.63  2806655  3.302020e+09   \n",
      "1   2024-10-22  000001  11.76  11.79  11.93  11.72  1617787  1.908439e+09   \n",
      "2   2024-10-23  000001  11.82  11.86  11.89  11.75  1511866  1.787237e+09   \n",
      "3   2024-10-24  000001  11.81  11.75  11.86  11.72   885299  1.042819e+09   \n",
      "4   2024-10-25  000001  11.77  11.71  11.78  11.69  1105755  1.296844e+09   \n",
      "..         ...     ...    ...    ...    ...    ...      ...           ...   \n",
      "59  2025-01-13  000001  11.25  11.20  11.26  11.08   934966  1.044904e+09   \n",
      "60  2025-01-14  000001  11.20  11.38  11.40  11.19   824629  9.344678e+08   \n",
      "61  2025-01-15  000001  11.38  11.48  11.58  11.36  1031631  1.185404e+09   \n",
      "62  2025-01-16  000001  11.55  11.57  11.59  11.47   872964  1.007689e+09   \n",
      "63  2025-01-17  000001  11.53  11.45  11.55  11.42   689765  7.912304e+08   \n",
      "\n",
      "      振幅   涨跌幅   涨跌额   换手率  \n",
      "0   2.57 -1.91 -0.23  1.45  \n",
      "1   1.78 -0.17 -0.02  0.83  \n",
      "2   1.19  0.59  0.07  0.78  \n",
      "3   1.18 -0.93 -0.11  0.46  \n",
      "4   0.77 -0.34 -0.04  0.57  \n",
      "..   ...   ...   ...   ...  \n",
      "59  1.59 -0.88 -0.10  0.48  \n",
      "60  1.88  1.61  0.18  0.42  \n",
      "61  1.93  0.88  0.10  0.53  \n",
      "62  1.05  0.78  0.09  0.45  \n",
      "63  1.12 -1.04 -0.12  0.36  \n",
      "\n",
      "[64 rows x 12 columns]\n"
     ]
    }
   ],
   "source": [
    " res = ak.stock_zh_a_hist(symbol='000001', period=\"daily\",\n",
    "                                        start_date=begindays,\n",
    "                                        end_date=endays, adjust=\"qfq\")\n",
    " print(res)"
   ]
  }
 ],
 "metadata": {
  "kernelspec": {
   "display_name": "Python 3",
   "language": "python",
   "name": "python3"
  },
  "language_info": {
   "codemirror_mode": {
    "name": "ipython",
    "version": 3
   },
   "file_extension": ".py",
   "mimetype": "text/x-python",
   "name": "python",
   "nbconvert_exporter": "python",
   "pygments_lexer": "ipython3",
   "version": "3.11.9"
  }
 },
 "nbformat": 4,
 "nbformat_minor": 2
}
